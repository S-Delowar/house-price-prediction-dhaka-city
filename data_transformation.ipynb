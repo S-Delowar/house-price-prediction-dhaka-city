{
 "cells": [
  {
   "cell_type": "code",
   "execution_count": 1,
   "id": "b1c22dc0",
   "metadata": {},
   "outputs": [],
   "source": [
    "import numpy as np\n",
    "import pandas as pd\n",
    "\n",
    "import warnings\n",
    "warnings.filterwarnings('ignore')"
   ]
  },
  {
   "cell_type": "code",
   "execution_count": 57,
   "id": "375e9a51",
   "metadata": {},
   "outputs": [],
   "source": [
    "import joblib\n",
    "import json\n",
    "import os"
   ]
  },
  {
   "cell_type": "code",
   "execution_count": 2,
   "id": "c9ab862e",
   "metadata": {},
   "outputs": [],
   "source": [
    "from sklearn.preprocessing import StandardScaler\n",
    "from sklearn.preprocessing import OneHotEncoder\n",
    "\n",
    "from sklearn.impute import SimpleImputer\n",
    "\n",
    "from sklearn.pipeline import Pipeline\n",
    "from sklearn.compose import ColumnTransformer"
   ]
  },
  {
   "cell_type": "code",
   "execution_count": 3,
   "id": "1500c3b7",
   "metadata": {},
   "outputs": [],
   "source": [
    "train_df = pd.read_csv('data_ingestion/train_df.csv')\n",
    "test_df = pd.read_csv('data_ingestion/test_df.csv')"
   ]
  },
  {
   "cell_type": "code",
   "execution_count": 4,
   "id": "6db6e956",
   "metadata": {},
   "outputs": [
    {
     "name": "stdout",
     "output_type": "stream",
     "text": [
      "Train Data Size: (20150, 5)\n",
      "Test Data Size: (8637, 5)\n"
     ]
    }
   ],
   "source": [
    "print(f'Train Data Size: {train_df.shape}')\n",
    "print(f'Test Data Size: {test_df.shape}')"
   ]
  },
  {
   "cell_type": "code",
   "execution_count": 5,
   "id": "e9d576c6",
   "metadata": {},
   "outputs": [
    {
     "data": {
      "text/html": [
       "<div>\n",
       "<style scoped>\n",
       "    .dataframe tbody tr th:only-of-type {\n",
       "        vertical-align: middle;\n",
       "    }\n",
       "\n",
       "    .dataframe tbody tr th {\n",
       "        vertical-align: top;\n",
       "    }\n",
       "\n",
       "    .dataframe thead th {\n",
       "        text-align: right;\n",
       "    }\n",
       "</style>\n",
       "<table border=\"1\" class=\"dataframe\">\n",
       "  <thead>\n",
       "    <tr style=\"text-align: right;\">\n",
       "      <th></th>\n",
       "      <th>area_sqft</th>\n",
       "      <th>bedroom</th>\n",
       "      <th>bathroom</th>\n",
       "      <th>location</th>\n",
       "      <th>avg_rent</th>\n",
       "    </tr>\n",
       "  </thead>\n",
       "  <tbody>\n",
       "    <tr>\n",
       "      <th>0</th>\n",
       "      <td>900</td>\n",
       "      <td>2</td>\n",
       "      <td>2</td>\n",
       "      <td>uttara</td>\n",
       "      <td>18000.0</td>\n",
       "    </tr>\n",
       "    <tr>\n",
       "      <th>1</th>\n",
       "      <td>1200</td>\n",
       "      <td>3</td>\n",
       "      <td>3</td>\n",
       "      <td>shahjahanpur</td>\n",
       "      <td>30000.0</td>\n",
       "    </tr>\n",
       "  </tbody>\n",
       "</table>\n",
       "</div>"
      ],
      "text/plain": [
       "   area_sqft  bedroom  bathroom      location  avg_rent\n",
       "0        900        2         2        uttara   18000.0\n",
       "1       1200        3         3  shahjahanpur   30000.0"
      ]
     },
     "execution_count": 5,
     "metadata": {},
     "output_type": "execute_result"
    }
   ],
   "source": [
    "train_df.head(2)"
   ]
  },
  {
   "cell_type": "code",
   "execution_count": 6,
   "id": "791bb19a",
   "metadata": {
    "scrolled": true
   },
   "outputs": [
    {
     "name": "stdout",
     "output_type": "stream",
     "text": [
      "<class 'pandas.core.frame.DataFrame'>\n",
      "RangeIndex: 20150 entries, 0 to 20149\n",
      "Data columns (total 5 columns):\n",
      " #   Column     Non-Null Count  Dtype  \n",
      "---  ------     --------------  -----  \n",
      " 0   area_sqft  20150 non-null  int64  \n",
      " 1   bedroom    20150 non-null  int64  \n",
      " 2   bathroom   20150 non-null  int64  \n",
      " 3   location   20150 non-null  object \n",
      " 4   avg_rent   20150 non-null  float64\n",
      "dtypes: float64(1), int64(3), object(1)\n",
      "memory usage: 787.2+ KB\n"
     ]
    }
   ],
   "source": [
    "train_df.info()"
   ]
  },
  {
   "cell_type": "code",
   "execution_count": 7,
   "id": "2571c7c9",
   "metadata": {},
   "outputs": [],
   "source": [
    "X_train = train_df[['area_sqft', 'bedroom', 'bathroom', 'location']]\n",
    "y_train = train_df[['avg_rent']]\n",
    "\n",
    "X_test = test_df[['area_sqft', 'bedroom', 'bathroom', 'location']]\n",
    "y_test = test_df[['avg_rent']]"
   ]
  },
  {
   "cell_type": "code",
   "execution_count": null,
   "id": "6ea25d56",
   "metadata": {},
   "outputs": [],
   "source": []
  },
  {
   "cell_type": "code",
   "execution_count": 8,
   "id": "d90b8ccc",
   "metadata": {},
   "outputs": [],
   "source": [
    "num_columns = ['area_sqft', 'bedroom', 'bathroom']\n",
    "cat_columns = ['location']"
   ]
  },
  {
   "cell_type": "code",
   "execution_count": 9,
   "id": "831951e5",
   "metadata": {},
   "outputs": [],
   "source": [
    "numerical_processor = Pipeline(\n",
    "    [\n",
    "       ('imputation_mean', SimpleImputer(strategy='mean')),\n",
    "        ('scaler', StandardScaler())\n",
    "    ]\n",
    ")"
   ]
  },
  {
   "cell_type": "code",
   "execution_count": 10,
   "id": "bf6074eb",
   "metadata": {},
   "outputs": [
    {
     "data": {
      "text/plain": [
       "Pipeline(steps=[('imputation_mean', SimpleImputer()),\n",
       "                ('scaler', StandardScaler())])"
      ]
     },
     "execution_count": 10,
     "metadata": {},
     "output_type": "execute_result"
    }
   ],
   "source": [
    "numerical_processor"
   ]
  },
  {
   "cell_type": "code",
   "execution_count": 11,
   "id": "0d097a10",
   "metadata": {},
   "outputs": [],
   "source": [
    "categorcial_processor = Pipeline(\n",
    "    [\n",
    "        ('imputation_constant', SimpleImputer(strategy='constant')),\n",
    "        ('onehot', OneHotEncoder(handle_unknown='ignore'))\n",
    "    ]\n",
    ")"
   ]
  },
  {
   "cell_type": "code",
   "execution_count": 12,
   "id": "07c8d26b",
   "metadata": {},
   "outputs": [
    {
     "data": {
      "text/plain": [
       "Pipeline(steps=[('imputation_constant', SimpleImputer(strategy='constant')),\n",
       "                ('onehot', OneHotEncoder(handle_unknown='ignore'))])"
      ]
     },
     "execution_count": 12,
     "metadata": {},
     "output_type": "execute_result"
    }
   ],
   "source": [
    "categorcial_processor"
   ]
  },
  {
   "cell_type": "code",
   "execution_count": 13,
   "id": "e7d05512",
   "metadata": {},
   "outputs": [],
   "source": [
    "preprocessor = ColumnTransformer(\n",
    "    [\n",
    "        ('numerical_processor', numerical_processor, num_columns),\n",
    "        ('categorical_processor', categorcial_processor, cat_columns)\n",
    "    ]\n",
    ")"
   ]
  },
  {
   "cell_type": "code",
   "execution_count": 14,
   "id": "aac374bd",
   "metadata": {
    "scrolled": true
   },
   "outputs": [
    {
     "data": {
      "text/plain": [
       "ColumnTransformer(transformers=[('numerical_processor',\n",
       "                                 Pipeline(steps=[('imputation_mean',\n",
       "                                                  SimpleImputer()),\n",
       "                                                 ('scaler', StandardScaler())]),\n",
       "                                 ['area_sqft', 'bedroom', 'bathroom']),\n",
       "                                ('categorical_processor',\n",
       "                                 Pipeline(steps=[('imputation_constant',\n",
       "                                                  SimpleImputer(strategy='constant')),\n",
       "                                                 ('onehot',\n",
       "                                                  OneHotEncoder(handle_unknown='ignore'))]),\n",
       "                                 ['location'])])"
      ]
     },
     "execution_count": 14,
     "metadata": {},
     "output_type": "execute_result"
    }
   ],
   "source": [
    "preprocessor"
   ]
  },
  {
   "cell_type": "markdown",
   "id": "e0ca0af2",
   "metadata": {},
   "source": [
    "### Save the Preprocessor"
   ]
  },
  {
   "cell_type": "code",
   "execution_count": 55,
   "id": "34d537f5",
   "metadata": {},
   "outputs": [
    {
     "name": "stdout",
     "output_type": "stream",
     "text": [
      "Preprocessor saved as 'preprocessor\\preprocessor.pkl'\n"
     ]
    }
   ],
   "source": [
    "# Create a directory for the preprocessor if it doesn't exist\n",
    "output_dir = \"preprocessor\"\n",
    "os.makedirs(output_dir, exist_ok=True)\n",
    "\n",
    "# Save the entire preprocessor under the \"preprocessor\" folder\n",
    "preprocessor_path = os.path.join(output_dir, \"preprocessor.pkl\")\n",
    "joblib.dump(preprocessor, preprocessor_path)\n",
    "print(f\"Preprocessor saved as '{preprocessor_path}'\")"
   ]
  },
  {
   "cell_type": "code",
   "execution_count": 15,
   "id": "b25088df",
   "metadata": {},
   "outputs": [],
   "source": [
    "# Visualize the Pipeline\n",
    "from sklearn import set_config\n",
    "set_config(display='diagram')"
   ]
  },
  {
   "cell_type": "code",
   "execution_count": 16,
   "id": "2180da71",
   "metadata": {
    "scrolled": true
   },
   "outputs": [
    {
     "data": {
      "text/html": [
       "<style>#sk-dd50191f-562b-4e2e-aef6-5a99becfd740 {color: black;background-color: white;}#sk-dd50191f-562b-4e2e-aef6-5a99becfd740 pre{padding: 0;}#sk-dd50191f-562b-4e2e-aef6-5a99becfd740 div.sk-toggleable {background-color: white;}#sk-dd50191f-562b-4e2e-aef6-5a99becfd740 label.sk-toggleable__label {cursor: pointer;display: block;width: 100%;margin-bottom: 0;padding: 0.3em;box-sizing: border-box;text-align: center;}#sk-dd50191f-562b-4e2e-aef6-5a99becfd740 label.sk-toggleable__label-arrow:before {content: \"▸\";float: left;margin-right: 0.25em;color: #696969;}#sk-dd50191f-562b-4e2e-aef6-5a99becfd740 label.sk-toggleable__label-arrow:hover:before {color: black;}#sk-dd50191f-562b-4e2e-aef6-5a99becfd740 div.sk-estimator:hover label.sk-toggleable__label-arrow:before {color: black;}#sk-dd50191f-562b-4e2e-aef6-5a99becfd740 div.sk-toggleable__content {max-height: 0;max-width: 0;overflow: hidden;text-align: left;background-color: #f0f8ff;}#sk-dd50191f-562b-4e2e-aef6-5a99becfd740 div.sk-toggleable__content pre {margin: 0.2em;color: black;border-radius: 0.25em;background-color: #f0f8ff;}#sk-dd50191f-562b-4e2e-aef6-5a99becfd740 input.sk-toggleable__control:checked~div.sk-toggleable__content {max-height: 200px;max-width: 100%;overflow: auto;}#sk-dd50191f-562b-4e2e-aef6-5a99becfd740 input.sk-toggleable__control:checked~label.sk-toggleable__label-arrow:before {content: \"▾\";}#sk-dd50191f-562b-4e2e-aef6-5a99becfd740 div.sk-estimator input.sk-toggleable__control:checked~label.sk-toggleable__label {background-color: #d4ebff;}#sk-dd50191f-562b-4e2e-aef6-5a99becfd740 div.sk-label input.sk-toggleable__control:checked~label.sk-toggleable__label {background-color: #d4ebff;}#sk-dd50191f-562b-4e2e-aef6-5a99becfd740 input.sk-hidden--visually {border: 0;clip: rect(1px 1px 1px 1px);clip: rect(1px, 1px, 1px, 1px);height: 1px;margin: -1px;overflow: hidden;padding: 0;position: absolute;width: 1px;}#sk-dd50191f-562b-4e2e-aef6-5a99becfd740 div.sk-estimator {font-family: monospace;background-color: #f0f8ff;border: 1px dotted black;border-radius: 0.25em;box-sizing: border-box;margin-bottom: 0.5em;}#sk-dd50191f-562b-4e2e-aef6-5a99becfd740 div.sk-estimator:hover {background-color: #d4ebff;}#sk-dd50191f-562b-4e2e-aef6-5a99becfd740 div.sk-parallel-item::after {content: \"\";width: 100%;border-bottom: 1px solid gray;flex-grow: 1;}#sk-dd50191f-562b-4e2e-aef6-5a99becfd740 div.sk-label:hover label.sk-toggleable__label {background-color: #d4ebff;}#sk-dd50191f-562b-4e2e-aef6-5a99becfd740 div.sk-serial::before {content: \"\";position: absolute;border-left: 1px solid gray;box-sizing: border-box;top: 2em;bottom: 0;left: 50%;}#sk-dd50191f-562b-4e2e-aef6-5a99becfd740 div.sk-serial {display: flex;flex-direction: column;align-items: center;background-color: white;padding-right: 0.2em;padding-left: 0.2em;}#sk-dd50191f-562b-4e2e-aef6-5a99becfd740 div.sk-item {z-index: 1;}#sk-dd50191f-562b-4e2e-aef6-5a99becfd740 div.sk-parallel {display: flex;align-items: stretch;justify-content: center;background-color: white;}#sk-dd50191f-562b-4e2e-aef6-5a99becfd740 div.sk-parallel::before {content: \"\";position: absolute;border-left: 1px solid gray;box-sizing: border-box;top: 2em;bottom: 0;left: 50%;}#sk-dd50191f-562b-4e2e-aef6-5a99becfd740 div.sk-parallel-item {display: flex;flex-direction: column;position: relative;background-color: white;}#sk-dd50191f-562b-4e2e-aef6-5a99becfd740 div.sk-parallel-item:first-child::after {align-self: flex-end;width: 50%;}#sk-dd50191f-562b-4e2e-aef6-5a99becfd740 div.sk-parallel-item:last-child::after {align-self: flex-start;width: 50%;}#sk-dd50191f-562b-4e2e-aef6-5a99becfd740 div.sk-parallel-item:only-child::after {width: 0;}#sk-dd50191f-562b-4e2e-aef6-5a99becfd740 div.sk-dashed-wrapped {border: 1px dashed gray;margin: 0 0.4em 0.5em 0.4em;box-sizing: border-box;padding-bottom: 0.4em;background-color: white;position: relative;}#sk-dd50191f-562b-4e2e-aef6-5a99becfd740 div.sk-label label {font-family: monospace;font-weight: bold;background-color: white;display: inline-block;line-height: 1.2em;}#sk-dd50191f-562b-4e2e-aef6-5a99becfd740 div.sk-label-container {position: relative;z-index: 2;text-align: center;}#sk-dd50191f-562b-4e2e-aef6-5a99becfd740 div.sk-container {/* jupyter's `normalize.less` sets `[hidden] { display: none; }` but bootstrap.min.css set `[hidden] { display: none !important; }` so we also need the `!important` here to be able to override the default hidden behavior on the sphinx rendered scikit-learn.org. See: https://github.com/scikit-learn/scikit-learn/issues/21755 */display: inline-block !important;position: relative;}#sk-dd50191f-562b-4e2e-aef6-5a99becfd740 div.sk-text-repr-fallback {display: none;}</style><div id=\"sk-dd50191f-562b-4e2e-aef6-5a99becfd740\" class=\"sk-top-container\"><div class=\"sk-text-repr-fallback\"><pre>ColumnTransformer(transformers=[(&#x27;numerical_processor&#x27;,\n",
       "                                 Pipeline(steps=[(&#x27;imputation_mean&#x27;,\n",
       "                                                  SimpleImputer()),\n",
       "                                                 (&#x27;scaler&#x27;, StandardScaler())]),\n",
       "                                 [&#x27;area_sqft&#x27;, &#x27;bedroom&#x27;, &#x27;bathroom&#x27;]),\n",
       "                                (&#x27;categorical_processor&#x27;,\n",
       "                                 Pipeline(steps=[(&#x27;imputation_constant&#x27;,\n",
       "                                                  SimpleImputer(strategy=&#x27;constant&#x27;)),\n",
       "                                                 (&#x27;onehot&#x27;,\n",
       "                                                  OneHotEncoder(handle_unknown=&#x27;ignore&#x27;))]),\n",
       "                                 [&#x27;location&#x27;])])</pre><b>Please rerun this cell to show the HTML repr or trust the notebook.</b></div><div class=\"sk-container\" hidden><div class=\"sk-item sk-dashed-wrapped\"><div class=\"sk-label-container\"><div class=\"sk-label sk-toggleable\"><input class=\"sk-toggleable__control sk-hidden--visually\" id=\"6334b160-b3bc-486c-bbbf-6409f0c9f5b0\" type=\"checkbox\" ><label for=\"6334b160-b3bc-486c-bbbf-6409f0c9f5b0\" class=\"sk-toggleable__label sk-toggleable__label-arrow\">ColumnTransformer</label><div class=\"sk-toggleable__content\"><pre>ColumnTransformer(transformers=[(&#x27;numerical_processor&#x27;,\n",
       "                                 Pipeline(steps=[(&#x27;imputation_mean&#x27;,\n",
       "                                                  SimpleImputer()),\n",
       "                                                 (&#x27;scaler&#x27;, StandardScaler())]),\n",
       "                                 [&#x27;area_sqft&#x27;, &#x27;bedroom&#x27;, &#x27;bathroom&#x27;]),\n",
       "                                (&#x27;categorical_processor&#x27;,\n",
       "                                 Pipeline(steps=[(&#x27;imputation_constant&#x27;,\n",
       "                                                  SimpleImputer(strategy=&#x27;constant&#x27;)),\n",
       "                                                 (&#x27;onehot&#x27;,\n",
       "                                                  OneHotEncoder(handle_unknown=&#x27;ignore&#x27;))]),\n",
       "                                 [&#x27;location&#x27;])])</pre></div></div></div><div class=\"sk-parallel\"><div class=\"sk-parallel-item\"><div class=\"sk-item\"><div class=\"sk-label-container\"><div class=\"sk-label sk-toggleable\"><input class=\"sk-toggleable__control sk-hidden--visually\" id=\"63e99e62-77aa-462c-a12e-7b82a7eebc0e\" type=\"checkbox\" ><label for=\"63e99e62-77aa-462c-a12e-7b82a7eebc0e\" class=\"sk-toggleable__label sk-toggleable__label-arrow\">numerical_processor</label><div class=\"sk-toggleable__content\"><pre>[&#x27;area_sqft&#x27;, &#x27;bedroom&#x27;, &#x27;bathroom&#x27;]</pre></div></div></div><div class=\"sk-serial\"><div class=\"sk-item\"><div class=\"sk-serial\"><div class=\"sk-item\"><div class=\"sk-estimator sk-toggleable\"><input class=\"sk-toggleable__control sk-hidden--visually\" id=\"1082694f-75cb-4401-a279-842399d02f10\" type=\"checkbox\" ><label for=\"1082694f-75cb-4401-a279-842399d02f10\" class=\"sk-toggleable__label sk-toggleable__label-arrow\">SimpleImputer</label><div class=\"sk-toggleable__content\"><pre>SimpleImputer()</pre></div></div></div><div class=\"sk-item\"><div class=\"sk-estimator sk-toggleable\"><input class=\"sk-toggleable__control sk-hidden--visually\" id=\"27980f5d-c9ae-42f7-b6e2-71e7cc719bc7\" type=\"checkbox\" ><label for=\"27980f5d-c9ae-42f7-b6e2-71e7cc719bc7\" class=\"sk-toggleable__label sk-toggleable__label-arrow\">StandardScaler</label><div class=\"sk-toggleable__content\"><pre>StandardScaler()</pre></div></div></div></div></div></div></div></div><div class=\"sk-parallel-item\"><div class=\"sk-item\"><div class=\"sk-label-container\"><div class=\"sk-label sk-toggleable\"><input class=\"sk-toggleable__control sk-hidden--visually\" id=\"7cee5c27-ca5f-4942-b7a1-2186d034b4b1\" type=\"checkbox\" ><label for=\"7cee5c27-ca5f-4942-b7a1-2186d034b4b1\" class=\"sk-toggleable__label sk-toggleable__label-arrow\">categorical_processor</label><div class=\"sk-toggleable__content\"><pre>[&#x27;location&#x27;]</pre></div></div></div><div class=\"sk-serial\"><div class=\"sk-item\"><div class=\"sk-serial\"><div class=\"sk-item\"><div class=\"sk-estimator sk-toggleable\"><input class=\"sk-toggleable__control sk-hidden--visually\" id=\"db8054bb-d4da-450c-a9d1-48fdd4f9af86\" type=\"checkbox\" ><label for=\"db8054bb-d4da-450c-a9d1-48fdd4f9af86\" class=\"sk-toggleable__label sk-toggleable__label-arrow\">SimpleImputer</label><div class=\"sk-toggleable__content\"><pre>SimpleImputer(strategy=&#x27;constant&#x27;)</pre></div></div></div><div class=\"sk-item\"><div class=\"sk-estimator sk-toggleable\"><input class=\"sk-toggleable__control sk-hidden--visually\" id=\"a42c06aa-a00f-40f0-8d28-c3237fce6069\" type=\"checkbox\" ><label for=\"a42c06aa-a00f-40f0-8d28-c3237fce6069\" class=\"sk-toggleable__label sk-toggleable__label-arrow\">OneHotEncoder</label><div class=\"sk-toggleable__content\"><pre>OneHotEncoder(handle_unknown=&#x27;ignore&#x27;)</pre></div></div></div></div></div></div></div></div></div></div></div></div>"
      ],
      "text/plain": [
       "ColumnTransformer(transformers=[('numerical_processor',\n",
       "                                 Pipeline(steps=[('imputation_mean',\n",
       "                                                  SimpleImputer()),\n",
       "                                                 ('scaler', StandardScaler())]),\n",
       "                                 ['area_sqft', 'bedroom', 'bathroom']),\n",
       "                                ('categorical_processor',\n",
       "                                 Pipeline(steps=[('imputation_constant',\n",
       "                                                  SimpleImputer(strategy='constant')),\n",
       "                                                 ('onehot',\n",
       "                                                  OneHotEncoder(handle_unknown='ignore'))]),\n",
       "                                 ['location'])])"
      ]
     },
     "execution_count": 16,
     "metadata": {},
     "output_type": "execute_result"
    }
   ],
   "source": [
    "preprocessor"
   ]
  },
  {
   "cell_type": "markdown",
   "id": "d4240c43",
   "metadata": {},
   "source": [
    "## Transform the Data"
   ]
  },
  {
   "cell_type": "code",
   "execution_count": 17,
   "id": "6db30afc",
   "metadata": {},
   "outputs": [
    {
     "data": {
      "text/html": [
       "<style>#sk-29cfdf69-3046-4ef3-8158-6c280a691e8c {color: black;background-color: white;}#sk-29cfdf69-3046-4ef3-8158-6c280a691e8c pre{padding: 0;}#sk-29cfdf69-3046-4ef3-8158-6c280a691e8c div.sk-toggleable {background-color: white;}#sk-29cfdf69-3046-4ef3-8158-6c280a691e8c label.sk-toggleable__label {cursor: pointer;display: block;width: 100%;margin-bottom: 0;padding: 0.3em;box-sizing: border-box;text-align: center;}#sk-29cfdf69-3046-4ef3-8158-6c280a691e8c label.sk-toggleable__label-arrow:before {content: \"▸\";float: left;margin-right: 0.25em;color: #696969;}#sk-29cfdf69-3046-4ef3-8158-6c280a691e8c label.sk-toggleable__label-arrow:hover:before {color: black;}#sk-29cfdf69-3046-4ef3-8158-6c280a691e8c div.sk-estimator:hover label.sk-toggleable__label-arrow:before {color: black;}#sk-29cfdf69-3046-4ef3-8158-6c280a691e8c div.sk-toggleable__content {max-height: 0;max-width: 0;overflow: hidden;text-align: left;background-color: #f0f8ff;}#sk-29cfdf69-3046-4ef3-8158-6c280a691e8c div.sk-toggleable__content pre {margin: 0.2em;color: black;border-radius: 0.25em;background-color: #f0f8ff;}#sk-29cfdf69-3046-4ef3-8158-6c280a691e8c input.sk-toggleable__control:checked~div.sk-toggleable__content {max-height: 200px;max-width: 100%;overflow: auto;}#sk-29cfdf69-3046-4ef3-8158-6c280a691e8c input.sk-toggleable__control:checked~label.sk-toggleable__label-arrow:before {content: \"▾\";}#sk-29cfdf69-3046-4ef3-8158-6c280a691e8c div.sk-estimator input.sk-toggleable__control:checked~label.sk-toggleable__label {background-color: #d4ebff;}#sk-29cfdf69-3046-4ef3-8158-6c280a691e8c div.sk-label input.sk-toggleable__control:checked~label.sk-toggleable__label {background-color: #d4ebff;}#sk-29cfdf69-3046-4ef3-8158-6c280a691e8c input.sk-hidden--visually {border: 0;clip: rect(1px 1px 1px 1px);clip: rect(1px, 1px, 1px, 1px);height: 1px;margin: -1px;overflow: hidden;padding: 0;position: absolute;width: 1px;}#sk-29cfdf69-3046-4ef3-8158-6c280a691e8c div.sk-estimator {font-family: monospace;background-color: #f0f8ff;border: 1px dotted black;border-radius: 0.25em;box-sizing: border-box;margin-bottom: 0.5em;}#sk-29cfdf69-3046-4ef3-8158-6c280a691e8c div.sk-estimator:hover {background-color: #d4ebff;}#sk-29cfdf69-3046-4ef3-8158-6c280a691e8c div.sk-parallel-item::after {content: \"\";width: 100%;border-bottom: 1px solid gray;flex-grow: 1;}#sk-29cfdf69-3046-4ef3-8158-6c280a691e8c div.sk-label:hover label.sk-toggleable__label {background-color: #d4ebff;}#sk-29cfdf69-3046-4ef3-8158-6c280a691e8c div.sk-serial::before {content: \"\";position: absolute;border-left: 1px solid gray;box-sizing: border-box;top: 2em;bottom: 0;left: 50%;}#sk-29cfdf69-3046-4ef3-8158-6c280a691e8c div.sk-serial {display: flex;flex-direction: column;align-items: center;background-color: white;padding-right: 0.2em;padding-left: 0.2em;}#sk-29cfdf69-3046-4ef3-8158-6c280a691e8c div.sk-item {z-index: 1;}#sk-29cfdf69-3046-4ef3-8158-6c280a691e8c div.sk-parallel {display: flex;align-items: stretch;justify-content: center;background-color: white;}#sk-29cfdf69-3046-4ef3-8158-6c280a691e8c div.sk-parallel::before {content: \"\";position: absolute;border-left: 1px solid gray;box-sizing: border-box;top: 2em;bottom: 0;left: 50%;}#sk-29cfdf69-3046-4ef3-8158-6c280a691e8c div.sk-parallel-item {display: flex;flex-direction: column;position: relative;background-color: white;}#sk-29cfdf69-3046-4ef3-8158-6c280a691e8c div.sk-parallel-item:first-child::after {align-self: flex-end;width: 50%;}#sk-29cfdf69-3046-4ef3-8158-6c280a691e8c div.sk-parallel-item:last-child::after {align-self: flex-start;width: 50%;}#sk-29cfdf69-3046-4ef3-8158-6c280a691e8c div.sk-parallel-item:only-child::after {width: 0;}#sk-29cfdf69-3046-4ef3-8158-6c280a691e8c div.sk-dashed-wrapped {border: 1px dashed gray;margin: 0 0.4em 0.5em 0.4em;box-sizing: border-box;padding-bottom: 0.4em;background-color: white;position: relative;}#sk-29cfdf69-3046-4ef3-8158-6c280a691e8c div.sk-label label {font-family: monospace;font-weight: bold;background-color: white;display: inline-block;line-height: 1.2em;}#sk-29cfdf69-3046-4ef3-8158-6c280a691e8c div.sk-label-container {position: relative;z-index: 2;text-align: center;}#sk-29cfdf69-3046-4ef3-8158-6c280a691e8c div.sk-container {/* jupyter's `normalize.less` sets `[hidden] { display: none; }` but bootstrap.min.css set `[hidden] { display: none !important; }` so we also need the `!important` here to be able to override the default hidden behavior on the sphinx rendered scikit-learn.org. See: https://github.com/scikit-learn/scikit-learn/issues/21755 */display: inline-block !important;position: relative;}#sk-29cfdf69-3046-4ef3-8158-6c280a691e8c div.sk-text-repr-fallback {display: none;}</style><div id=\"sk-29cfdf69-3046-4ef3-8158-6c280a691e8c\" class=\"sk-top-container\"><div class=\"sk-text-repr-fallback\"><pre>ColumnTransformer(transformers=[(&#x27;numerical_processor&#x27;,\n",
       "                                 Pipeline(steps=[(&#x27;imputation_mean&#x27;,\n",
       "                                                  SimpleImputer()),\n",
       "                                                 (&#x27;scaler&#x27;, StandardScaler())]),\n",
       "                                 [&#x27;area_sqft&#x27;, &#x27;bedroom&#x27;, &#x27;bathroom&#x27;]),\n",
       "                                (&#x27;categorical_processor&#x27;,\n",
       "                                 Pipeline(steps=[(&#x27;imputation_constant&#x27;,\n",
       "                                                  SimpleImputer(strategy=&#x27;constant&#x27;)),\n",
       "                                                 (&#x27;onehot&#x27;,\n",
       "                                                  OneHotEncoder(handle_unknown=&#x27;ignore&#x27;))]),\n",
       "                                 [&#x27;location&#x27;])])</pre><b>Please rerun this cell to show the HTML repr or trust the notebook.</b></div><div class=\"sk-container\" hidden><div class=\"sk-item sk-dashed-wrapped\"><div class=\"sk-label-container\"><div class=\"sk-label sk-toggleable\"><input class=\"sk-toggleable__control sk-hidden--visually\" id=\"c8a1a03d-0935-46fc-9884-5db680c8ef20\" type=\"checkbox\" ><label for=\"c8a1a03d-0935-46fc-9884-5db680c8ef20\" class=\"sk-toggleable__label sk-toggleable__label-arrow\">ColumnTransformer</label><div class=\"sk-toggleable__content\"><pre>ColumnTransformer(transformers=[(&#x27;numerical_processor&#x27;,\n",
       "                                 Pipeline(steps=[(&#x27;imputation_mean&#x27;,\n",
       "                                                  SimpleImputer()),\n",
       "                                                 (&#x27;scaler&#x27;, StandardScaler())]),\n",
       "                                 [&#x27;area_sqft&#x27;, &#x27;bedroom&#x27;, &#x27;bathroom&#x27;]),\n",
       "                                (&#x27;categorical_processor&#x27;,\n",
       "                                 Pipeline(steps=[(&#x27;imputation_constant&#x27;,\n",
       "                                                  SimpleImputer(strategy=&#x27;constant&#x27;)),\n",
       "                                                 (&#x27;onehot&#x27;,\n",
       "                                                  OneHotEncoder(handle_unknown=&#x27;ignore&#x27;))]),\n",
       "                                 [&#x27;location&#x27;])])</pre></div></div></div><div class=\"sk-parallel\"><div class=\"sk-parallel-item\"><div class=\"sk-item\"><div class=\"sk-label-container\"><div class=\"sk-label sk-toggleable\"><input class=\"sk-toggleable__control sk-hidden--visually\" id=\"e83d18fb-601b-4a19-8d76-2681ae94f0ba\" type=\"checkbox\" ><label for=\"e83d18fb-601b-4a19-8d76-2681ae94f0ba\" class=\"sk-toggleable__label sk-toggleable__label-arrow\">numerical_processor</label><div class=\"sk-toggleable__content\"><pre>[&#x27;area_sqft&#x27;, &#x27;bedroom&#x27;, &#x27;bathroom&#x27;]</pre></div></div></div><div class=\"sk-serial\"><div class=\"sk-item\"><div class=\"sk-serial\"><div class=\"sk-item\"><div class=\"sk-estimator sk-toggleable\"><input class=\"sk-toggleable__control sk-hidden--visually\" id=\"58968b03-cb4d-4bae-8586-29f3f703f5c5\" type=\"checkbox\" ><label for=\"58968b03-cb4d-4bae-8586-29f3f703f5c5\" class=\"sk-toggleable__label sk-toggleable__label-arrow\">SimpleImputer</label><div class=\"sk-toggleable__content\"><pre>SimpleImputer()</pre></div></div></div><div class=\"sk-item\"><div class=\"sk-estimator sk-toggleable\"><input class=\"sk-toggleable__control sk-hidden--visually\" id=\"16dfb8c7-d149-483d-af78-09222ed5ef22\" type=\"checkbox\" ><label for=\"16dfb8c7-d149-483d-af78-09222ed5ef22\" class=\"sk-toggleable__label sk-toggleable__label-arrow\">StandardScaler</label><div class=\"sk-toggleable__content\"><pre>StandardScaler()</pre></div></div></div></div></div></div></div></div><div class=\"sk-parallel-item\"><div class=\"sk-item\"><div class=\"sk-label-container\"><div class=\"sk-label sk-toggleable\"><input class=\"sk-toggleable__control sk-hidden--visually\" id=\"068a3e0c-a553-4b98-b3a8-49cae7b7c47e\" type=\"checkbox\" ><label for=\"068a3e0c-a553-4b98-b3a8-49cae7b7c47e\" class=\"sk-toggleable__label sk-toggleable__label-arrow\">categorical_processor</label><div class=\"sk-toggleable__content\"><pre>[&#x27;location&#x27;]</pre></div></div></div><div class=\"sk-serial\"><div class=\"sk-item\"><div class=\"sk-serial\"><div class=\"sk-item\"><div class=\"sk-estimator sk-toggleable\"><input class=\"sk-toggleable__control sk-hidden--visually\" id=\"7b4c126a-05ed-4e3a-94fd-a38ff95893b5\" type=\"checkbox\" ><label for=\"7b4c126a-05ed-4e3a-94fd-a38ff95893b5\" class=\"sk-toggleable__label sk-toggleable__label-arrow\">SimpleImputer</label><div class=\"sk-toggleable__content\"><pre>SimpleImputer(strategy=&#x27;constant&#x27;)</pre></div></div></div><div class=\"sk-item\"><div class=\"sk-estimator sk-toggleable\"><input class=\"sk-toggleable__control sk-hidden--visually\" id=\"5728e10f-16da-43e4-aa4f-7fe898c1f6b9\" type=\"checkbox\" ><label for=\"5728e10f-16da-43e4-aa4f-7fe898c1f6b9\" class=\"sk-toggleable__label sk-toggleable__label-arrow\">OneHotEncoder</label><div class=\"sk-toggleable__content\"><pre>OneHotEncoder(handle_unknown=&#x27;ignore&#x27;)</pre></div></div></div></div></div></div></div></div></div></div></div></div>"
      ],
      "text/plain": [
       "ColumnTransformer(transformers=[('numerical_processor',\n",
       "                                 Pipeline(steps=[('imputation_mean',\n",
       "                                                  SimpleImputer()),\n",
       "                                                 ('scaler', StandardScaler())]),\n",
       "                                 ['area_sqft', 'bedroom', 'bathroom']),\n",
       "                                ('categorical_processor',\n",
       "                                 Pipeline(steps=[('imputation_constant',\n",
       "                                                  SimpleImputer(strategy='constant')),\n",
       "                                                 ('onehot',\n",
       "                                                  OneHotEncoder(handle_unknown='ignore'))]),\n",
       "                                 ['location'])])"
      ]
     },
     "execution_count": 17,
     "metadata": {},
     "output_type": "execute_result"
    }
   ],
   "source": [
    "# Fit the preprocessor\n",
    "preprocessor.fit(X_train)\n"
   ]
  },
  {
   "cell_type": "code",
   "execution_count": 18,
   "id": "3284e1a1",
   "metadata": {},
   "outputs": [],
   "source": [
    "X_train_transformed = preprocessor.transform(X_train)\n",
    "X_test_transformed = preprocessor.transform(X_test)"
   ]
  },
  {
   "cell_type": "markdown",
   "id": "113a2415",
   "metadata": {},
   "source": [
    "## Modeling"
   ]
  },
  {
   "cell_type": "code",
   "execution_count": 31,
   "id": "61290419",
   "metadata": {},
   "outputs": [],
   "source": [
    "from sklearn.ensemble import RandomForestRegressor, GradientBoostingRegressor, AdaBoostRegressor\n",
    "from sklearn.tree import DecisionTreeRegressor\n",
    "from sklearn.neighbors import KNeighborsRegressor\n",
    "from xgboost import XGBRegressor\n",
    "from sklearn.linear_model import LinearRegression\n",
    "\n",
    "from sklearn.model_selection import GridSearchCV\n",
    "from sklearn.metrics import r2_score"
   ]
  },
  {
   "cell_type": "code",
   "execution_count": 32,
   "id": "f3defa9f",
   "metadata": {},
   "outputs": [],
   "source": [
    "models_dict ={\n",
    "                'Linear Regression': LinearRegression(),\n",
    "                'KNeighborsRegressor':KNeighborsRegressor(),\n",
    "                'Random Forest': RandomForestRegressor(),\n",
    "                'Gradient Boosting': GradientBoostingRegressor(),\n",
    "                'AdaBoost Regressor': AdaBoostRegressor(),\n",
    "                'Decision Tree': DecisionTreeRegressor(),\n",
    "                'XGBRegressor': XGBRegressor()\n",
    "            }\n",
    "            \n",
    "            # parameters for hyperparameter tuning\n",
    "params = {\n",
    "    \"Decision Tree\": {\n",
    "        'criterion':['squared_error', 'friedman_mse', 'absolute_error', 'poisson'],\n",
    "        # 'splitter':['best','random'],\n",
    "        # 'max_features':['sqrt','log2'],\n",
    "    },\n",
    "    \"Random Forest\":{\n",
    "        # 'criterion':['squared_error', 'friedman_mse', 'absolute_error', 'poisson'],\n",
    "\n",
    "        # 'max_features':['sqrt','log2',None],\n",
    "        'n_estimators': [8,16,32,64,128,256]\n",
    "    },\n",
    "    \"Gradient Boosting\":{\n",
    "        # 'loss':['squared_error', 'huber', 'absolute_error', 'quantile'],\n",
    "        'learning_rate':[.1,.01,.05,.001],\n",
    "        'subsample':[0.6,0.7,0.75,0.8,0.85,0.9],\n",
    "        # 'criterion':['squared_error', 'friedman_mse'],\n",
    "        # 'max_features':['auto','sqrt','log2'],\n",
    "        'n_estimators': [8,16,32,64,128,256]\n",
    "    },\n",
    "    \"Linear Regression\":{},\n",
    "    \"XGBRegressor\":{\n",
    "        'learning_rate':[.1,.01,.05,.001],\n",
    "        'n_estimators': [8,16,32,64,128,256]\n",
    "    },\n",
    "    \"AdaBoost Regressor\":{\n",
    "        'learning_rate':[.1,.01,0.5,.001],\n",
    "        # 'loss':['linear','square','exponential'],\n",
    "        'n_estimators': [8,16,32,64,128,256]\n",
    "    },\n",
    "    \"KNeighborsRegressor\":{}          \n",
    "}"
   ]
  },
  {
   "cell_type": "code",
   "execution_count": null,
   "id": "2522f065",
   "metadata": {},
   "outputs": [],
   "source": []
  },
  {
   "cell_type": "code",
   "execution_count": 56,
   "id": "1fee081d",
   "metadata": {},
   "outputs": [],
   "source": [
    "from sklearn.model_selection import GridSearchCV"
   ]
  },
  {
   "cell_type": "code",
   "execution_count": 52,
   "id": "71ca60ba",
   "metadata": {},
   "outputs": [],
   "source": [
    "# Assuming you have a function evaluate_model\n",
    "def evaluate_model(X_train, X_test, y_train, y_test, models_dict, params):\n",
    "    best_model = None\n",
    "    best_score = float('-inf')\n",
    "    best_model_name = \"\"\n",
    "    \n",
    "    for model_name, model in models_dict.items():\n",
    "        clf = GridSearchCV(model, params[model_name], cv=5)\n",
    "        clf.fit(X_train, y_train)\n",
    "        score = clf.score(X_test, y_test)\n",
    "        \n",
    "        if score > best_score:\n",
    "            best_score = score\n",
    "            best_model = clf.best_estimator_\n",
    "            best_model_name = model_name\n",
    "    \n",
    "    return best_model, best_score, best_model_name"
   ]
  },
  {
   "cell_type": "code",
   "execution_count": 53,
   "id": "609db8dd",
   "metadata": {},
   "outputs": [],
   "source": [
    "# Create directory for best model\n",
    "output_dir = \"best_model\"\n",
    "os.makedirs(output_dir, exist_ok=True)"
   ]
  },
  {
   "cell_type": "code",
   "execution_count": 54,
   "id": "a3b08e87",
   "metadata": {},
   "outputs": [
    {
     "name": "stdout",
     "output_type": "stream",
     "text": [
      "Best model: XGBRegressor with score 89.21%\n",
      "Best Parameters: {'objective': 'reg:squarederror', 'base_score': None, 'booster': None, 'callbacks': None, 'colsample_bylevel': None, 'colsample_bynode': None, 'colsample_bytree': None, 'early_stopping_rounds': None, 'enable_categorical': False, 'eval_metric': None, 'feature_types': None, 'gamma': None, 'gpu_id': None, 'grow_policy': None, 'importance_type': None, 'interaction_constraints': None, 'learning_rate': 0.1, 'max_bin': None, 'max_cat_threshold': None, 'max_cat_to_onehot': None, 'max_delta_step': None, 'max_depth': None, 'max_leaves': None, 'min_child_weight': None, 'missing': nan, 'monotone_constraints': None, 'n_estimators': 128, 'n_jobs': None, 'num_parallel_tree': None, 'predictor': None, 'random_state': None, 'reg_alpha': None, 'reg_lambda': None, 'sampling_method': None, 'scale_pos_weight': None, 'subsample': None, 'tree_method': None, 'validate_parameters': None, 'verbosity': None}\n",
      "Best model saved as 'best_model\\best_model.pkl'\n",
      "Best model details saved in 'best_model\\best_model_details.txt'\n"
     ]
    }
   ],
   "source": [
    "# Example usage\n",
    "best_model, best_score, best_model_name = evaluate_model(X_train=X_train_transformed, X_test=X_test_transformed, y_train=y_train, y_test=y_test, models_dict=models_dict, params=params)\n",
    "\n",
    "if best_score < 0.7:\n",
    "    print(\"No best model found\")\n",
    "else:\n",
    "    print(f'Best model: {best_model_name} with score {round(best_score * 100, 2)}%')\n",
    "    print(f'Best Parameters: {best_model.get_params()}')\n",
    "    \n",
    "    # Save the best model\n",
    "    model_path = os.path.join(output_dir, 'best_model.pkl')\n",
    "    joblib.dump(best_model, model_path)\n",
    "    print(f\"Best model saved as '{model_path}'\")\n",
    "    \n",
    "    # Extract and serialize the model details\n",
    "    model_details = {\n",
    "        \"model_name\": best_model_name,\n",
    "        \"model_accuracy\": round(best_score * 100, 2),\n",
    "        \"model_params\": {k: str(v) for k, v in best_model.get_params().items()}  # Ensure all values are strings\n",
    "    }\n",
    "    \n",
    "    # Write model details to a text file\n",
    "    details_path = os.path.join(output_dir, 'best_model_details.txt')\n",
    "    with open(details_path, 'w') as file:\n",
    "        file.write(json.dumps(model_details, indent=4))\n",
    "    \n",
    "    print(f\"Best model details saved in '{details_path}'\")\n"
   ]
  },
  {
   "cell_type": "code",
   "execution_count": null,
   "id": "5eb1aa17",
   "metadata": {},
   "outputs": [],
   "source": []
  },
  {
   "cell_type": "code",
   "execution_count": null,
   "id": "c0a10b5e",
   "metadata": {},
   "outputs": [],
   "source": []
  }
 ],
 "metadata": {
  "kernelspec": {
   "display_name": "Python 3 (ipykernel)",
   "language": "python",
   "name": "python3"
  },
  "language_info": {
   "codemirror_mode": {
    "name": "ipython",
    "version": 3
   },
   "file_extension": ".py",
   "mimetype": "text/x-python",
   "name": "python",
   "nbconvert_exporter": "python",
   "pygments_lexer": "ipython3",
   "version": "3.9.12"
  }
 },
 "nbformat": 4,
 "nbformat_minor": 5
}
